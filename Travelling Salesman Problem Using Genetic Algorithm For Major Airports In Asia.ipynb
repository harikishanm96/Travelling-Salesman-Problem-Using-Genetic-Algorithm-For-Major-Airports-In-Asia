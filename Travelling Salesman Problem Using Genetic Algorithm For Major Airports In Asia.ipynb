{
 "cells": [
  {
   "cell_type": "code",
   "execution_count": 1,
   "metadata": {},
   "outputs": [],
   "source": [
    "import pandas as pd\n",
    "import numpy as np\n",
    "import random, operator\n",
    "import matplotlib.pyplot as plt\n",
    "from math import radians, sin, cos, asin, sqrt, pi"
   ]
  },
  {
   "cell_type": "code",
   "execution_count": 2,
   "metadata": {},
   "outputs": [
    {
     "name": "stdout",
     "output_type": "stream",
     "text": [
      "['Beijing', 'Dubai', 'Tokyo', 'Hong Kong', 'Shanghai', 'Delhi', 'Guangzhou', 'Seoul']\n",
      "[[40.0799, 116.6031], [25.2532, 55.3657], [35.5494, 139.7798], [22.308, 113.9185], [31.1443, 121.8083], [28.5562, 77.1], [23.3959, 113.308], [37.4602, 126.4407]]\n"
     ]
    }
   ],
   "source": [
    "# Data used below are the real coordinates of 8 major airports in Asia\n",
    "# The values in the dictionary below represent the latitude and longitude of the major airports\n",
    "\n",
    "airport_dict = {'Beijing':[40.0799, 116.6031], 'Dubai':[25.2532, 55.3657], 'Tokyo':[35.5494, 139.7798], 'Hong Kong':[22.3080, 113.9185], 'Shanghai':[31.1443, 121.8083], 'Delhi':[28.5562, 77.1000], 'Guangzhou':[23.3959, 113.3080], 'Seoul':[37.4602, 126.4407]}\n",
    "\n",
    "airport_names = list(airport_dict.keys())\n",
    "airport_cord = list(airport_dict.values()) \n",
    "print(airport_names)\n",
    "print(airport_cord)"
   ]
  },
  {
   "cell_type": "code",
   "execution_count": 3,
   "metadata": {},
   "outputs": [],
   "source": [
    "# Calculates the distance between two airports(Cities)\n",
    "def calculateDistance(airports):\n",
    "    total = dict()\n",
    "    for idx, value in enumerate(airports):\n",
    "        lat1 = airports[idx][0]\n",
    "        lon1 = airports[idx][1]\n",
    "        if idx + 1 <= len(airports) - 1:\n",
    "            lat2 = airports[idx+1][0]\n",
    "            lon2 = airports[idx+1][1]\n",
    "            \n",
    "            # Using 'Haversine Formula' to calculate the distance\n",
    "            dlat = (lat2 - lat1) * pi / 180.0\n",
    "            dlon = (lon2 - lon1) * pi / 180.0\n",
    "            \n",
    "            lat1 = (lat1) * pi / 180.0\n",
    "            lat2 = (lat2) * pi / 180.0\n",
    "            \n",
    "            a = (pow(sin(dlat / 2), 2) + pow(sin(dlon / 2), 2) * cos(lat1) * cos(lat2))\n",
    "            rad = 6371\n",
    "            distance = 2 * asin(sqrt(a)) * rad\n",
    "            total['From city ' + str(idx+1) + ' to city ' + str(idx+2)] = distance\n",
    "            \n",
    "        else:\n",
    "            lat2 = airports[0][0]\n",
    "            lon2 = airports[0][1]\n",
    "            \n",
    "            dlat = (lat2 - lat1) * pi / 180.0\n",
    "            dlon = (lon2 - lon1) * pi / 180.0\n",
    "            \n",
    "            lat1 = (lat1) * pi / 180.0\n",
    "            lat2 = (lat2) * pi / 180.0\n",
    "            \n",
    "            a = (pow(sin(dlat / 2), 2) + pow(sin(dlon / 2), 2) * cos(lat1) * cos(lat2))\n",
    "            rad = 6371\n",
    "            distance = 2 * asin(sqrt(a)) * rad\n",
    "            total['From city ' + str(idx+1) + ' to city ' + str(idx+2-len(airports))] = distance\n",
    "    return total                                                                 "
   ]
  },
  {
   "cell_type": "code",
   "execution_count": 4,
   "metadata": {},
   "outputs": [
    {
     "data": {
      "text/plain": [
       "28786.060117879777"
      ]
     },
     "execution_count": 4,
     "metadata": {},
     "output_type": "execute_result"
    }
   ],
   "source": [
    "# Calculates the total distance of the route\n",
    "def totalDistance(airports):\n",
    "    total = sum(calculateDistance(airports).values())\n",
    "    return total\n",
    "totalDistance(airport_cord)"
   ]
  },
  {
   "cell_type": "markdown",
   "metadata": {},
   "source": [
    "# 1. Initial Population"
   ]
  },
  {
   "cell_type": "code",
   "execution_count": 5,
   "metadata": {},
   "outputs": [],
   "source": [
    "# Create random route to visit each airport(city)\n",
    "def flightRoute(airports):\n",
    "    route = random.sample(airports, len(airports))\n",
    "    return route\n"
   ]
  },
  {
   "cell_type": "code",
   "execution_count": 6,
   "metadata": {},
   "outputs": [],
   "source": [
    "# Create initial population(list of routes)\n",
    "def initialPopulation(airports, populationSize):\n",
    "    population = [flightRoute(airports) for i in range(0, populationSize)]\n",
    "    return population\n"
   ]
  },
  {
   "cell_type": "markdown",
   "metadata": {},
   "source": [
    "# 2. Fitness Function"
   ]
  },
  {
   "cell_type": "code",
   "execution_count": 7,
   "metadata": {},
   "outputs": [],
   "source": [
    "# Calculate the fitness of the route\n",
    "def routeFitness(airports):\n",
    "    totalDist = totalDistance(airports)\n",
    "    fitness= 0.0\n",
    "    if fitness == 0:\n",
    "        fitness = 1 / float(totalDist)\n",
    "    return fitness\n"
   ]
  },
  {
   "cell_type": "code",
   "execution_count": 8,
   "metadata": {},
   "outputs": [],
   "source": [
    "# Rank the routes\n",
    "def rankRoutes(population):\n",
    "    fitnessResults = {}\n",
    "    for i in range(len(population)):\n",
    "        fitnessResults[i] = routeFitness(population[i])\n",
    "        \n",
    "    return sorted(fitnessResults.items(), key = operator.itemgetter(1), reverse = True)\n"
   ]
  },
  {
   "cell_type": "markdown",
   "metadata": {},
   "source": [
    "# 3. Selection"
   ]
  },
  {
   "cell_type": "code",
   "execution_count": 9,
   "metadata": {},
   "outputs": [],
   "source": [
    "# Selection of the best performing routes\n",
    "def selection(popRanked, eliteSize):\n",
    "    df = pd.DataFrame(np.array(popRanked), columns=[\"Index\",\"Fitness\"])\n",
    "    df['cumulative_sum'] = df.Fitness.cumsum()\n",
    "    df['cum_percentage'] = 100*df.cumulative_sum/df.Fitness.sum()\n",
    "    \n",
    "    selectedRoutes = [popRanked[i][0] for i in range(eliteSize)]\n",
    "    for i in range(len(popRanked) - eliteSize):\n",
    "        pick = 100*random.random()\n",
    "        for i in range(0, len(popRanked)):\n",
    "            if pick <= df.iat[i,3]:\n",
    "                selectedRoutes.append(popRanked[i][0])\n",
    "                break\n",
    "                \n",
    "    return selectedRoutes"
   ]
  },
  {
   "cell_type": "code",
   "execution_count": 10,
   "metadata": {},
   "outputs": [],
   "source": [
    "# Create Mating Pool\n",
    "def matingPool(population, selectedRoutes):\n",
    "    matingpool = [population[selectedRoutes[i]] for i in range(len(selectedRoutes))]\n",
    "    return matingpool\n"
   ]
  },
  {
   "cell_type": "markdown",
   "metadata": {},
   "source": [
    "# 4. Crossover"
   ]
  },
  {
   "cell_type": "code",
   "execution_count": 11,
   "metadata": {},
   "outputs": [],
   "source": [
    "# Ordered crossover or breeding to create one child\n",
    "def breed(parent1, parent2):\n",
    "    gene_x = int(random.random() * len(parent1))\n",
    "    gene_y = int(random.random() * len(parent1))\n",
    "    start_position = min(gene_x, gene_y)\n",
    "    end_position = max(gene_x, gene_y)\n",
    "\n",
    "    geneOfParent1 = [parent1[i] for i in range(start_position, end_position)]\n",
    "    geneOfParent2 = [i for i in parent2 if i not in geneOfParent1]\n",
    "\n",
    "    child = geneOfParent1 + geneOfParent2\n",
    "    return child"
   ]
  },
  {
   "cell_type": "code",
   "execution_count": 12,
   "metadata": {},
   "outputs": [],
   "source": [
    "# Crossover or breeding over the mating pool\n",
    "def breedPopulation(matingpool, eliteSize):\n",
    "    length = len(matingpool) - eliteSize\n",
    "    pool = random.sample(matingpool, len(matingpool))\n",
    "    children1 = [matingpool[i] for i in range(eliteSize)]\n",
    "    children2 = [breed(pool[i], pool[len(matingpool)-i-1]) for i in range(length)]\n",
    "    children = children1 + children2\n",
    "    return children\n"
   ]
  },
  {
   "cell_type": "markdown",
   "metadata": {},
   "source": [
    "# 5. Mutation"
   ]
  },
  {
   "cell_type": "code",
   "execution_count": 13,
   "metadata": {},
   "outputs": [],
   "source": [
    "# Swap mutation for single route\n",
    "def mutate(individual, mutationRate):\n",
    "    for swapped in range(len(individual)):\n",
    "        if(random.random() < mutationRate):\n",
    "            swappedWith = int(random.random() * len(individual))\n",
    "            \n",
    "            city1 = individual[swapped]\n",
    "            city2 = individual[swappedWith]\n",
    "            \n",
    "            individual[swapped] = city2\n",
    "            individual[swappedWith] = city1\n",
    "    return individual"
   ]
  },
  {
   "cell_type": "code",
   "execution_count": 14,
   "metadata": {},
   "outputs": [],
   "source": [
    "# Mutation over entire population\n",
    "def mutatePopulation(population, mutationRate):\n",
    "    mutatedpopulation = [mutate(population[i], mutationRate) for i in range(len(population))]\n",
    "    return mutatedpopulation\n"
   ]
  },
  {
   "cell_type": "markdown",
   "metadata": {},
   "source": [
    "# Next Generation"
   ]
  },
  {
   "cell_type": "code",
   "execution_count": 15,
   "metadata": {},
   "outputs": [],
   "source": [
    "# Create next generation\n",
    "def nextGeneration(currentGen, eliteSize, mutationRate):\n",
    "    popRanked = rankRoutes(currentGen)\n",
    "    selectedRoutes = selection(popRanked, eliteSize)\n",
    "    matingpool = matingPool(currentGen, selectedRoutes)\n",
    "    children = breedPopulation(matingpool, eliteSize)\n",
    "    nxtgeneration = mutatePopulation(children, mutationRate)\n",
    "    return nxtgeneration\n"
   ]
  },
  {
   "cell_type": "code",
   "execution_count": 16,
   "metadata": {},
   "outputs": [],
   "source": [
    "# Get names of airports(cities) with respective routes\n",
    "def getAirports(bestRoute, airports, airport_names):\n",
    "    names = []\n",
    "    for idx,val in enumerate(bestRoute):\n",
    "        for i,v in enumerate(airports):\n",
    "            if val == v:\n",
    "                names.append(airport_names[i])\n",
    "    return names"
   ]
  },
  {
   "cell_type": "markdown",
   "metadata": {},
   "source": [
    "# Genetic Algorithm"
   ]
  },
  {
   "cell_type": "code",
   "execution_count": 17,
   "metadata": {},
   "outputs": [],
   "source": [
    "# Create Genetic Algorithm\n",
    "def geneticAlgorithm(airport_names, airports, populationSize, eliteSize, mutationRate, generations):\n",
    "    pop = initialPopulation(airports,populationSize)\n",
    "    print(\"Initial Distance: \" + str(1 / rankRoutes(pop)[0][1]))\n",
    "    for i in range(generations):\n",
    "        pop = nextGeneration(pop, eliteSize, mutationRate)\n",
    "    print(\"Final Distance: \" + str(1 / rankRoutes(pop)[0][1]))\n",
    "    bestRouteIndex = rankRoutes(pop)[0][0]\n",
    "    bestRoute = pop[bestRouteIndex]\n",
    "    orderedAirports = getAirports(bestRoute, airports, airport_names)\n",
    "    print([(idx,val) for idx,val in enumerate(orderedAirports)])\n",
    "    return bestRoute"
   ]
  },
  {
   "cell_type": "code",
   "execution_count": 18,
   "metadata": {},
   "outputs": [
    {
     "name": "stdout",
     "output_type": "stream",
     "text": [
      "Initial Distance: 18063.873089010893\n",
      "Final Distance: 16919.690401897948\n",
      "[(0, 'Shanghai'), (1, 'Hong Kong'), (2, 'Guangzhou'), (3, 'Delhi'), (4, 'Dubai'), (5, 'Beijing'), (6, 'Seoul'), (7, 'Tokyo')]\n"
     ]
    },
    {
     "data": {
      "text/plain": [
       "[[31.1443, 121.8083],\n",
       " [22.308, 113.9185],\n",
       " [23.3959, 113.308],\n",
       " [28.5562, 77.1],\n",
       " [25.2532, 55.3657],\n",
       " [40.0799, 116.6031],\n",
       " [37.4602, 126.4407],\n",
       " [35.5494, 139.7798]]"
      ]
     },
     "execution_count": 18,
     "metadata": {},
     "output_type": "execute_result"
    }
   ],
   "source": [
    "# Run the Genetic Algorithm\n",
    "geneticAlgorithm(airport_names, airport_cord, populationSize=100, eliteSize=20, mutationRate=0.01, generations=100)"
   ]
  },
  {
   "cell_type": "markdown",
   "metadata": {},
   "source": [
    "# Plot"
   ]
  },
  {
   "cell_type": "code",
   "execution_count": 19,
   "metadata": {},
   "outputs": [],
   "source": [
    "# Plot of Genetic Algorithm through generations\n",
    "def geneticAlgorithmPlot(airport_cord, popSize, eliteSize, mutationRate, generations):\n",
    "    pop = initialPopulation(airport_cord, popSize)\n",
    "    progress = []\n",
    "    progress.append(1 / rankRoutes(pop)[0][1])\n",
    "    \n",
    "    for i in range(0, generations):\n",
    "        pop = nextGeneration(pop, eliteSize, mutationRate)\n",
    "        progress.append(1 / rankRoutes(pop)[0][1])\n",
    "    \n",
    "    plt.plot(progress)\n",
    "    plt.ylabel('Distance')\n",
    "    plt.xlabel('Generation')\n",
    "    plt.show()"
   ]
  },
  {
   "cell_type": "code",
   "execution_count": 20,
   "metadata": {},
   "outputs": [
    {
     "data": {
      "image/png": "[encoded data removed]",
      "text/plain": [
       "<Figure size 432x288 with 1 Axes>"
      ]
     },
     "metadata": {
      "needs_background": "light"
     },
     "output_type": "display_data"
    }
   ],
   "source": [
    "# Run geneticAlgorithmPlot\n",
    "geneticAlgorithmPlot(airport_cord, popSize=100, eliteSize=20, mutationRate=0.01, generations=100)"
   ]
  }
 ],
 "metadata": {
  "kernelspec": {
   "display_name": "Python 3",
   "language": "python",
   "name": "python3"
  },
  "language_info": {
   "codemirror_mode": {
    "name": "ipython",
    "version": 3
   },
   "file_extension": ".py",
   "mimetype": "text/x-python",
   "name": "python",
   "nbconvert_exporter": "python",
   "pygments_lexer": "ipython3",
   "version": "3.7.3"
  }
 },
 "nbformat": 4,
 "nbformat_minor": 2
}
